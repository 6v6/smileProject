{
 "cells": [
  {
   "cell_type": "code",
   "execution_count": 1,
   "metadata": {
    "scrolled": true
   },
   "outputs": [
    {
     "data": {
      "image/jpeg": "[encoded data removed]",
      "text/plain": [
       "<IPython.core.display.Image object>"
      ]
     },
     "metadata": {},
     "output_type": "display_data"
    },
    {
     "name": "stdout",
     "output_type": "stream",
     "text": [
      "{'predictions': [{'prediction': [0.7576506733894348, 0.21455591917037964, 0.00849219411611557, 0.009984792210161686, 0.009316503070294857]}]}\n",
      "None\n"
     ]
    }
   ],
   "source": [
    "from googleapiclient import discovery\n",
    "import os\n",
    "import google.auth\n",
    "from oauth2client.client import GoogleCredentials\n",
    "import numpy\n",
    "import base64\n",
    "import logging\n",
    "from IPython.display import display, Image\n",
    "from bson.json_util import loads\n",
    "from bson.json_util import dumps\n",
    "import json\n",
    "import bson\n",
    "import googleapiclient\n",
    "\n",
    "os.environ['GOOGLE_APPLICATION_CREDENTIALS']=\"/Users/keys/My Project-05aafbe1ae25.json\"\n",
    "cropped_image = \"/FaceEmotion/training/101334931_70e4cb98fc_o.jpg\"\n",
    "display(Image(cropped_image))\n",
    "\n",
    "PROJECT = '#'\n",
    "MODEL_NAME = '#'\n",
    "MODEL_VERSION ='#'\n",
    "\n",
    "class MyEncoder(json.JSONEncoder):\n",
    "    def default(self, obj):\n",
    "        if isinstance(obj, (bytes, bytearray)):\n",
    "            return obj.decode(\"ASCII\")\n",
    "        return json.JSONEncoder.default(self, obj)\n",
    "    \n",
    "def call_ml_service(img_str):\n",
    "\n",
    "    parent = 'projects/{}/models/{}/versions/{}'.format(PROJECT, MODEL_NAME,MODEL_VERSION) \n",
    "    #print(parent)\n",
    "    \n",
    "    pred = None\n",
    "    request_dict = {\n",
    "        \"instances\": [\n",
    "            {\n",
    "                \"image\": {\n",
    "                    \"b64\": img_str\n",
    "                }\n",
    "            }\n",
    "        ]\n",
    "    }\n",
    "    request_dict=json.dumps(request_dict, cls=MyEncoder)\n",
    "    request_dict=json.loads(request_dict)\n",
    "    try:\n",
    "        credentials = GoogleCredentials.get_application_default()\n",
    "        cloudml_svc = discovery.build('ml', 'v1', credentials=credentials,cache_discovery=False)\n",
    "        #cache_discovery=False\n",
    "        request = cloudml_svc.projects().predict(name=parent, body=request_dict)\n",
    "        response = request.execute()\n",
    "        print(response)\n",
    "       \n",
    "        #pred = response['predictions'][0]['scores']\n",
    "        #pred = numpy.asarray(pred)\n",
    "\n",
    "    except googleapiclient.errors.HttpError as err:\n",
    "        print(err)\n",
    "        print(json.loads(err.content.decode('utf-8'))['error']['message'])  # works\n",
    "        \n",
    "    return pred\n",
    "\n",
    "# base64 encode the same image\n",
    "with open(cropped_image, 'rb') as image_file:\n",
    "    encoded_string = base64.b64encode(image_file.read())\n",
    "\n",
    "# See what ML Engine thinks\n",
    "online_prediction = call_ml_service(encoded_string)\n",
    "print (online_prediction)"
   ]
  }
 ],
 "metadata": {
  "kernelspec": {
   "display_name": "Python 3",
   "language": "python",
   "name": "python3"
  },
  "language_info": {
   "codemirror_mode": {
    "name": "ipython",
    "version": 3
   },
   "file_extension": ".py",
   "mimetype": "text/x-python",
   "name": "python",
   "nbconvert_exporter": "python",
   "pygments_lexer": "ipython3",
   "version": "3.6.6"
  }
 },
 "nbformat": 4,
 "nbformat_minor": 2
}
