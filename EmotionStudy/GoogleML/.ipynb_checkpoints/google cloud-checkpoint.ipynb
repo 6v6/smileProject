{
 "cells": [
  {
   "cell_type": "code",
   "execution_count": 1,
   "metadata": {},
   "outputs": [
    {
     "name": "stdout",
     "output_type": "stream",
     "text": [
      "jobId: export_emotion_v5\n",
      "state: QUEUED\n"
     ]
    },
    {
     "name": "stderr",
     "output_type": "stream",
     "text": [
      "Job [export_emotion_v5] submitted successfully.\n",
      "Your job is still active. You may view the status of your job with the command\n",
      "\n",
      "  $ gcloud ml-engine jobs describe export_emotion_v5\n",
      "\n",
      "or continue streaming the logs with the command\n",
      "\n",
      "  $ gcloud ml-engine jobs stream-logs export_emotion_v5\n"
     ]
    }
   ],
   "source": [
    "import google.auth\n",
    "import os\n",
    "import datetime\n",
    "\n",
    "os.environ[\"GOOGLE_APPLICATION_CREDENTIALS\"]=\"#.json\"\n",
    "job_name='emotion'+datetime.datetime.now().strftime('%y%m%d%H%M%S')\n",
    "\n",
    "#print job_name\n",
    "JOB_NAME='export_emotion_v5'\n",
    "PACKAGE_PATH='./trainer'\n",
    "#MODULE_NAME='trainer.model_gcs'\n",
    "MODULE_NAME='trainer.model_localfile_export'\n",
    "STAGING_BUCKET='#'\n",
    "REGION='asia-east1'\n",
    "SCALE_TIER='BASIC_GPU'\n",
    "\n",
    "!gcloud ml-engine jobs submit training $JOB_NAME \\\n",
    "--package-path=$PACKAGE_PATH \\\n",
    "--module-name=$MODULE_NAME \\\n",
    "--staging-bucket=$STAGING_BUCKET \\\n",
    "--region=$REGION \\\n",
    "--scale-tier=$SCALE_TIER \\"
   ]
  },
  {
   "cell_type": "code",
   "execution_count": null,
   "metadata": {},
   "outputs": [],
   "source": []
  }
 ],
 "metadata": {
  "kernelspec": {
   "display_name": "Python 3",
   "language": "python",
   "name": "python3"
  },
  "language_info": {
   "codemirror_mode": {
    "name": "ipython",
    "version": 3
   },
   "file_extension": ".py",
   "mimetype": "text/x-python",
   "name": "python",
   "nbconvert_exporter": "python",
   "pygments_lexer": "ipython3",
   "version": "3.6.6"
  }
 },
 "nbformat": 4,
 "nbformat_minor": 2
}
